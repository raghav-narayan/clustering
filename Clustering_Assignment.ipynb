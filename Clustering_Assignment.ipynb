{
 "cells": [
  {
   "cell_type": "markdown",
   "metadata": {
    "colab_type": "text",
    "id": "MwM5tdEPTp83"
   },
   "source": [
    "# <font color='red'>Clustering Assignment</font>"
   ]
  },
  {
   "cell_type": "markdown",
   "metadata": {
    "colab_type": "text",
    "id": "aW8pyV-Q5fV2"
   },
   "source": [
    "**There will be some functions that start with the word \"grader\" ex: grader_actors(), grader_movies(), grader_cost1() etc, you should not change those function definition.<br><br>Every Grader function has to return True.**"
   ]
  },
  {
   "cell_type": "markdown",
   "metadata": {
    "colab_type": "text",
    "id": "nOvuWZ1XLFPG"
   },
   "source": [
    "**Please check [clustering assignment helper functions](https://drive.google.com/file/d/1V29KhKo3YnckMX32treEgdtH5r90DIjU/view?usp=sharing) notebook before attempting this assignment.**"
   ]
  },
  {
   "cell_type": "markdown",
   "metadata": {
    "colab_type": "text",
    "id": "KwVzbmIoT621"
   },
   "source": [
    "*  Read graph from the given <font color='blue'>movie_actor_network.csv</font> (note that the graph is bipartite graph.)\n",
    "\n",
    "*  Using stellergaph and gensim packages, get the dense representation(128dimensional vector) of every node in the graph. [Refer <font color='blue'>Clustering_Assignment_Reference.ipynb</font>]\n",
    "\n",
    "* Split the dense representation into actor nodes, movies nodes.(Write you code in <font color='blue'>def data_split()</font>)\n"
   ]
  },
  {
   "cell_type": "markdown",
   "metadata": {
    "colab_type": "text",
    "id": "3lUhnVcTZ3q_"
   },
   "source": [
    "# <font color='red'>Task 1 : Apply clustering algorithm to group similar actors</font>"
   ]
  },
  {
   "cell_type": "markdown",
   "metadata": {
    "colab_type": "text",
    "id": "dG0XAMMmgi1r"
   },
   "source": [
    " 1. For this task consider only the actor nodes \n",
    " 2. Apply any clustering algorithm of your choice <br>\n",
    "    Refer : https://scikit-learn.org/stable/modules/clustering.html\n",
    " 3. Choose the number of clusters for which you have maximum score of <b>$Cost1*Cost2$</b><br>\n",
    " 4. Cost1 = $\\frac{1}{N}\\sum_{\\text{each cluster i}}  \\frac{\\text{(number of nodes in the largest connected component in the graph with the actor nodes and its movie neighbours in cluster i)}}{\\text{(total number of nodes in that cluster i)}}$ where N= number of clusters \n",
    "<br> (Write your code in <font color='blue'>def cost1()</font>)<br>\n",
    " 5. Cost2 = $\\frac{1}{N}\\sum_{\\text{each cluster i}}  \\frac{\\text{(sum of degress of actor nodes in the graph with the actor nodes and its movie neighbours in cluster i)}}{\\text{(number of unique movie nodes in the graph with the actor nodes and its movie neighbours in cluster i)}}$ where N= number of clusters \n",
    " <br> (Write your code in <font color='blue'>def cost2()</font>)<br>\n",
    " 6. Fit the clustering algorithm with the opimal number_of_clusters and get the cluster number for each node <br>\n",
    " 7. Convert the d-dimensional dense vectors of nodes into 2-dimensional using dimensionality reduction techniques (preferably TSNE)<br>\n",
    " 8. Plot the 2d scatter plot, with the node vectors after step e and give colors to nodes such that same cluster nodes will have same color"
   ]
  },
  {
   "cell_type": "markdown",
   "metadata": {
    "colab_type": "text",
    "id": "7pH2axXawRbG"
   },
   "source": [
    "<img src='https://i.imgur.com/4SPYPFa.jpg'>"
   ]
  },
  {
   "cell_type": "markdown",
   "metadata": {
    "colab_type": "text",
    "id": "Qh7HrbKAuGbD"
   },
   "source": [
    "# <font color='red'>Task 2 : Apply clustering algorithm to group similar movies</font>"
   ]
  },
  {
   "cell_type": "markdown",
   "metadata": {
    "colab_type": "text",
    "id": "e9pALo19uJsw"
   },
   "source": [
    "\n",
    "1. For this task consider only the movie nodes\n",
    "2. Apply any clustering algorithm of your choice\n",
    "3.Choose the number of clusters for which you have maximum score of $Cost1*Cost2$ <br>\n",
    "\n",
    "    Cost1 = $\\frac{1}{N}\\sum_{\\text{each cluster i}}  \\frac{\\text{(number of nodes in the largest connected component in the graph with the movie nodes and its actor neighbours in cluster i)}}{\\text{(total number of nodes in that cluster i)}}$ where N= number of clusters <br>\n",
    "(Write your code in <font color='blue'>def cost1()</font>)<br>\n",
    "\t\n",
    "4. Cost2 = $\\frac{1}{N}\\sum_{\\text{each cluster i}}  \\frac{\\text{(sum of degress of movie nodes in the graph with the movie nodes and its actor neighbours in cluster i)}}{\\text{(number of unique actor nodes in the graph with the movie nodes and its actor neighbours in cluster i)}}$ \n",
    "where N= number of clusters \n",
    "<br>(Write your code in <font color='blue'>def cost2()</font>)<br>\n"
   ]
  },
  {
   "cell_type": "markdown",
   "metadata": {
    "colab_type": "text",
    "id": "MrXdWBDSvijT"
   },
   "source": [
    "**Algorithm for actor nodes**"
   ]
  },
  {
   "cell_type": "markdown",
   "metadata": {
    "colab_type": "text",
    "id": "JLAAEftyvs9b"
   },
   "source": [
    "<pre>\n",
    "\tfor number_of_clusters in [3, 5, 10, 30, 50, 100, 200, 500]:\n",
    "\t\talgo = clustering_algorith(clusters=number_of_clusters)\n",
    "        # you will be passing a matrix of size N*d where N number of actor nodes and d is dimension from gensim\n",
    "\t\talgo.fit(the dense vectors of actor nodes) \n",
    "        You can get the labels for corresponding actor nodes (algo.labels_)\n",
    "        Create a graph for every cluster(ie., if n_clusters=3, create 3 graphs)\n",
    "        (You can use ego_graph to create subgraph from the actual graph)\n",
    "        compute cost1,cost2 \n",
    "           (if n_cluster=3, cost1=cost1(graph1)+cost1(graph2)+cost1(graph3) # here we are doing summation\n",
    "            cost2=cost2(graph1)+cost2(graph2)+cost2(graph3)\n",
    "\t\tcomputer the metric Cost = Cost1*Cost2\n",
    "\treturn number_of_clusters which have maximum Cost\n",
    "\t</pre>"
   ]
  },
  {
   "cell_type": "markdown",
   "metadata": {
    "colab_type": "text",
    "id": "DLbRJvsgyniG"
   },
   "source": [
    "<br>"
   ]
  },
  {
   "cell_type": "code",
   "execution_count": 28,
   "metadata": {
    "colab": {},
    "colab_type": "code",
    "id": "ppVsL_H-co0G"
   },
   "outputs": [],
   "source": [
    "import networkx as nx\n",
    "from networkx.algorithms import bipartite\n",
    "import matplotlib.pyplot as plt\n",
    "from sklearn.cluster import KMeans\n",
    "import numpy as np\n",
    "import warnings\n",
    "warnings.filterwarnings(\"ignore\")\n",
    "import pandas as pd\n",
    "# you need to have tensorflow \n",
    "from stellargraph.data import UniformRandomMetaPathWalk\n",
    "from stellargraph import StellarGraph"
   ]
  },
  {
   "cell_type": "code",
   "execution_count": 29,
   "metadata": {
    "colab": {},
    "colab_type": "code",
    "id": "QbChYqlFv_cL"
   },
   "outputs": [
    {
     "data": {
      "text/html": [
       "<div>\n",
       "<style scoped>\n",
       "    .dataframe tbody tr th:only-of-type {\n",
       "        vertical-align: middle;\n",
       "    }\n",
       "\n",
       "    .dataframe tbody tr th {\n",
       "        vertical-align: top;\n",
       "    }\n",
       "\n",
       "    .dataframe thead th {\n",
       "        text-align: right;\n",
       "    }\n",
       "</style>\n",
       "<table border=\"1\" class=\"dataframe\">\n",
       "  <thead>\n",
       "    <tr style=\"text-align: right;\">\n",
       "      <th></th>\n",
       "      <th>movie</th>\n",
       "      <th>actor</th>\n",
       "    </tr>\n",
       "  </thead>\n",
       "  <tbody>\n",
       "    <tr>\n",
       "      <th>0</th>\n",
       "      <td>m1</td>\n",
       "      <td>a1</td>\n",
       "    </tr>\n",
       "    <tr>\n",
       "      <th>1</th>\n",
       "      <td>m2</td>\n",
       "      <td>a1</td>\n",
       "    </tr>\n",
       "    <tr>\n",
       "      <th>2</th>\n",
       "      <td>m2</td>\n",
       "      <td>a2</td>\n",
       "    </tr>\n",
       "    <tr>\n",
       "      <th>3</th>\n",
       "      <td>m3</td>\n",
       "      <td>a1</td>\n",
       "    </tr>\n",
       "    <tr>\n",
       "      <th>4</th>\n",
       "      <td>m3</td>\n",
       "      <td>a3</td>\n",
       "    </tr>\n",
       "  </tbody>\n",
       "</table>\n",
       "</div>"
      ],
      "text/plain": [
       "  movie actor\n",
       "0    m1    a1\n",
       "1    m2    a1\n",
       "2    m2    a2\n",
       "3    m3    a1\n",
       "4    m3    a3"
      ]
     },
     "execution_count": 29,
     "metadata": {},
     "output_type": "execute_result"
    }
   ],
   "source": [
    "data=pd.read_csv('movie_actor_network.csv', index_col=False, names=['movie','actor'])\n",
    "data.head()"
   ]
  },
  {
   "cell_type": "code",
   "execution_count": 30,
   "metadata": {
    "colab": {},
    "colab_type": "code",
    "id": "gcBsQzFGv_fL"
   },
   "outputs": [],
   "source": [
    "edges = [tuple(x) for x in data.values.tolist()]"
   ]
  },
  {
   "cell_type": "code",
   "execution_count": 31,
   "metadata": {},
   "outputs": [
    {
     "data": {
      "text/plain": [
       "('m1', 'a1')"
      ]
     },
     "execution_count": 31,
     "metadata": {},
     "output_type": "execute_result"
    }
   ],
   "source": [
    "edges[0]"
   ]
  },
  {
   "cell_type": "code",
   "execution_count": 32,
   "metadata": {
    "colab": {},
    "colab_type": "code",
    "id": "uTzj_WK-v_iL"
   },
   "outputs": [],
   "source": [
    "B = nx.Graph()\n",
    "B.add_nodes_from(data['movie'].unique(), bipartite=0, label='movie')\n",
    "B.add_nodes_from(data['actor'].unique(), bipartite=1, label='actor')\n",
    "B.add_edges_from(edges, label='acted')"
   ]
  },
  {
   "cell_type": "code",
   "execution_count": 33,
   "metadata": {
    "colab": {},
    "colab_type": "code",
    "id": "4cNRukL2v_lT"
   },
   "outputs": [],
   "source": [
    "A = list(nx.connected_component_subgraphs(B))[0]"
   ]
  },
  {
   "cell_type": "code",
   "execution_count": 34,
   "metadata": {
    "colab": {},
    "colab_type": "code",
    "id": "Mbrcb_npv_oY"
   },
   "outputs": [
    {
     "name": "stdout",
     "output_type": "stream",
     "text": [
      "number of nodes 4703\n",
      "number of edges 9650\n"
     ]
    }
   ],
   "source": [
    "print(\"number of nodes\", A.number_of_nodes())\n",
    "print(\"number of edges\", A.number_of_edges())"
   ]
  },
  {
   "cell_type": "code",
   "execution_count": 35,
   "metadata": {
    "colab": {},
    "colab_type": "code",
    "id": "izhQYFBuv_ru"
   },
   "outputs": [
    {
     "data": {
      "image/png": "[encoded data removed]",
      "text/plain": [
       "<Figure size 432x288 with 1 Axes>"
      ]
     },
     "metadata": {},
     "output_type": "display_data"
    }
   ],
   "source": [
    "l, r = nx.bipartite.sets(A)\n",
    "pos = {}\n",
    "\n",
    "pos.update((node, (1, index)) for index, node in enumerate(l))\n",
    "pos.update((node, (2, index)) for index, node in enumerate(r))\n",
    "  \n",
    "nx.draw(A, pos=pos, with_labels=True)\n",
    "plt.show()"
   ]
  },
  {
   "cell_type": "code",
   "execution_count": 36,
   "metadata": {
    "colab": {},
    "colab_type": "code",
    "id": "hO1t2gViv_vH"
   },
   "outputs": [
    {
     "name": "stdout",
     "output_type": "stream",
     "text": [
      "number of movies  1292\n",
      "number of actors  3411\n"
     ]
    }
   ],
   "source": [
    "movies = []\n",
    "actors = []\n",
    "for i in A.nodes():\n",
    "    if 'm' in i:\n",
    "        movies.append(i)\n",
    "    if 'a' in i:\n",
    "        actors.append(i)\n",
    "print('number of movies ', len(movies))\n",
    "print('number of actors ', len(actors))"
   ]
  },
  {
   "cell_type": "code",
   "execution_count": 37,
   "metadata": {
    "colab": {},
    "colab_type": "code",
    "id": "caqMya1xy_QT"
   },
   "outputs": [
    {
     "name": "stdout",
     "output_type": "stream",
     "text": [
      "Number of random walks: 4703\n"
     ]
    }
   ],
   "source": [
    "\n",
    "# Create the random walker\n",
    "rw = UniformRandomMetaPathWalk(StellarGraph(A))\n",
    "\n",
    "# specify the metapath schemas as a list of lists of node types.\n",
    "metapaths = [\n",
    "    [\"movie\", \"actor\", \"movie\"],\n",
    "    [\"actor\", \"movie\", \"actor\"]\n",
    "]\n",
    "\n",
    "walks = rw.run(nodes=list(A.nodes()), # root nodes\n",
    "               length=100,  # maximum length of a random walk\n",
    "               n=1,        # number of random walks per root node \n",
    "               metapaths=metapaths\n",
    "              )\n",
    "\n",
    "print(\"Number of random walks: {}\".format(len(walks)))"
   ]
  },
  {
   "cell_type": "code",
   "execution_count": 38,
   "metadata": {
    "colab": {},
    "colab_type": "code",
    "id": "FYCCAqFhzCpz"
   },
   "outputs": [],
   "source": [
    "from gensim.models import Word2Vec\n",
    "model = Word2Vec(walks, size=128, window=5)"
   ]
  },
  {
   "cell_type": "code",
   "execution_count": 39,
   "metadata": {
    "colab": {},
    "colab_type": "code",
    "id": "x3Xf2z1-co3k"
   },
   "outputs": [
    {
     "data": {
      "text/plain": [
       "(4703, 128)"
      ]
     },
     "execution_count": 39,
     "metadata": {},
     "output_type": "execute_result"
    }
   ],
   "source": [
    "model.wv.vectors.shape  # 128-dimensional vector for each node in the graph"
   ]
  },
  {
   "cell_type": "code",
   "execution_count": 40,
   "metadata": {
    "colab": {},
    "colab_type": "code",
    "id": "ja8oxOWVzE2e"
   },
   "outputs": [],
   "source": [
    "# Retrieve node embeddings and corresponding subjects\n",
    "node_ids = model.wv.index2word  # list of node IDs\n",
    "node_embeddings = model.wv.vectors  # numpy.ndarray (dense matrix) of size number of nodes times embeddings dimensionality\n",
    "node_targets = [ A.node[node_id]['label'] for node_id in node_ids]"
   ]
  },
  {
   "cell_type": "code",
   "execution_count": 41,
   "metadata": {
    "colab": {},
    "colab_type": "code",
    "id": "Y63_g9Y4co66"
   },
   "outputs": [],
   "source": [
    "def data_split(node_ids,node_targets,node_embeddings):\n",
    "    '''In this function, we will split the node embeddings into actor_embeddings , movie_embeddings '''\n",
    "    actor_nodes,movie_nodes=[],[]\n",
    "    actor_embeddings,movie_embeddings=[],[]\n",
    "    # split the node_embeddings into actor_embeddings,movie_embeddings based on node_ids\n",
    "    actor_indices = []\n",
    "    for idx,node in enumerate(node_ids):\n",
    "        if 'a' in node:\n",
    "            actor_indices.append(idx)\n",
    "    movie_indices = []\n",
    "    for idx,node in enumerate(node_ids):\n",
    "        if 'm' in node:\n",
    "            movie_indices.append(idx)\n",
    "    \n",
    "    actor_embeddings = node_embeddings[actor_indices]\n",
    "    movie_embeddings =  node_embeddings[movie_indices]\n",
    "    # By using node_embedding and node_targets, we can extract actor_embedding and movie embedding\n",
    "    # By using node_ids and node_targets, we can extract actor_nodes and movie nodes\n",
    "    actor_nodes = node_targets[actor_indices]\n",
    "    movie_nodes = node_targets[movie_indices]\n",
    "\n",
    "    return actor_nodes,movie_nodes,actor_embeddings,movie_embeddings\n"
   ]
  },
  {
   "cell_type": "code",
   "execution_count": 42,
   "metadata": {},
   "outputs": [
    {
     "ename": "TypeError",
     "evalue": "list indices must be integers or slices, not list",
     "output_type": "error",
     "traceback": [
      "\u001b[1;31m---------------------------------------------------------------------------\u001b[0m",
      "\u001b[1;31mTypeError\u001b[0m                                 Traceback (most recent call last)",
      "\u001b[1;32m<ipython-input-42-9c3003d4b6f8>\u001b[0m in \u001b[0;36m<module>\u001b[1;34m\u001b[0m\n\u001b[1;32m----> 1\u001b[1;33m \u001b[0mactor_nodes\u001b[0m\u001b[1;33m,\u001b[0m\u001b[0mmovie_nodes\u001b[0m\u001b[1;33m,\u001b[0m\u001b[0mactor_embeddings\u001b[0m\u001b[1;33m,\u001b[0m\u001b[0mmovie_embeddings\u001b[0m \u001b[1;33m=\u001b[0m \u001b[0mdata_split\u001b[0m\u001b[1;33m(\u001b[0m\u001b[0mnode_ids\u001b[0m\u001b[1;33m,\u001b[0m\u001b[0mnode_targets\u001b[0m\u001b[1;33m,\u001b[0m\u001b[0mnode_embeddings\u001b[0m\u001b[1;33m)\u001b[0m\u001b[1;33m\u001b[0m\u001b[0m\n\u001b[0m",
      "\u001b[1;32m<ipython-input-41-1794eed5b906>\u001b[0m in \u001b[0;36mdata_split\u001b[1;34m(node_ids, node_targets, node_embeddings)\u001b[0m\n\u001b[0;32m     17\u001b[0m     \u001b[1;31m# By using node_embedding and node_targets, we can extract actor_embedding and movie embedding\u001b[0m\u001b[1;33m\u001b[0m\u001b[1;33m\u001b[0m\u001b[0m\n\u001b[0;32m     18\u001b[0m     \u001b[1;31m# By using node_ids and node_targets, we can extract actor_nodes and movie nodes\u001b[0m\u001b[1;33m\u001b[0m\u001b[1;33m\u001b[0m\u001b[0m\n\u001b[1;32m---> 19\u001b[1;33m     \u001b[0mactor_nodes\u001b[0m \u001b[1;33m=\u001b[0m \u001b[0mnode_targets\u001b[0m\u001b[1;33m[\u001b[0m\u001b[0mactor_indices\u001b[0m\u001b[1;33m]\u001b[0m\u001b[1;33m\u001b[0m\u001b[0m\n\u001b[0m\u001b[0;32m     20\u001b[0m     \u001b[0mmovie_nodes\u001b[0m \u001b[1;33m=\u001b[0m \u001b[0mnode_targets\u001b[0m\u001b[1;33m[\u001b[0m\u001b[0mmovie_indices\u001b[0m\u001b[1;33m]\u001b[0m\u001b[1;33m\u001b[0m\u001b[0m\n\u001b[0;32m     21\u001b[0m \u001b[1;33m\u001b[0m\u001b[0m\n",
      "\u001b[1;31mTypeError\u001b[0m: list indices must be integers or slices, not list"
     ]
    }
   ],
   "source": [
    "actor_nodes,movie_nodes,actor_embeddings,movie_embeddings = data_split(node_ids,node_targets,node_embeddings)"
   ]
  },
  {
   "cell_type": "markdown",
   "metadata": {
    "colab_type": "text",
    "id": "xa7PdnRufRV3"
   },
   "source": [
    "<font color='cyan'>Grader function - 1</font>"
   ]
  },
  {
   "cell_type": "code",
   "execution_count": null,
   "metadata": {
    "colab": {},
    "colab_type": "code",
    "id": "PGG8Drj5fNbY"
   },
   "outputs": [],
   "source": [
    "def grader_actors(data):\n",
    "    assert(len(data)==3411)\n",
    "    return True\n",
    "grader_actors(actor_nodes)"
   ]
  },
  {
   "cell_type": "markdown",
   "metadata": {
    "colab_type": "text",
    "id": "3ZuEXUw-fipG"
   },
   "source": [
    "<font color='cyan'>Grader function - 2</font>"
   ]
  },
  {
   "cell_type": "code",
   "execution_count": null,
   "metadata": {
    "colab": {},
    "colab_type": "code",
    "id": "tYTGJqQTflxL"
   },
   "outputs": [],
   "source": [
    "def grader_movies(data):\n",
    "    assert(len(data)==1292)\n",
    "    return True\n",
    "grader_movies(movie_nodes)"
   ]
  },
  {
   "cell_type": "markdown",
   "metadata": {
    "colab_type": "text",
    "id": "0Nz_ojodhwOp"
   },
   "source": [
    "<font color='blue'>Calculating cost1</font>"
   ]
  },
  {
   "cell_type": "markdown",
   "metadata": {
    "colab_type": "text",
    "id": "xdixgDsZhtM1"
   },
   "source": [
    "Cost1 = $\\frac{1}{N}\\sum_{\\text{each cluster i}}  \\frac{\\text{(number of nodes in the largest connected component in the graph with the actor nodes and its movie neighbours in cluster i)}}{\\text{(total number of nodes in that cluster i)}}$ where N= number of clusters <br><br>\n",
    "<br>"
   ]
  },
  {
   "cell_type": "code",
   "execution_count": null,
   "metadata": {
    "colab": {},
    "colab_type": "code",
    "id": "7akLq1z6hiiU"
   },
   "outputs": [],
   "source": [
    "def cost1(graph,number_of_clusters):\n",
    "    '''In this function, we will calculate cost1'''\n",
    "    cc = max(nx.connected_components(graph),key = len)\n",
    "    len_max = len(cc)\n",
    "    no_of_nodes = len(graph.nodes())\n",
    "    cost1= len_max/no_of_nodes\n",
    "    cost1 /= number_of_clusters\n",
    "    \n",
    "    return cost1"
   ]
  },
  {
   "cell_type": "code",
   "execution_count": null,
   "metadata": {
    "colab": {
     "base_uri": "https://localhost:8080/",
     "height": 248
    },
    "colab_type": "code",
    "id": "C4EdKJyri-wl",
    "outputId": "5fd95d35-956c-4d39-e2cd-107e5bbc59a7"
   },
   "outputs": [],
   "source": [
    "import networkx as nx\n",
    "from networkx.algorithms import bipartite\n",
    "graded_graph= nx.Graph()\n",
    "graded_graph.add_nodes_from(['a1','a5','a10','a11'], bipartite=0) # Add the node attribute \"bipartite\"\n",
    "graded_graph.add_nodes_from(['m1','m2','m4','m6','m5','m8'], bipartite=1)\n",
    "graded_graph.add_edges_from([('a1','m1'),('a1','m2'),('a1','m4'),('a11','m6'),('a5','m5'),('a10','m8')])\n",
    "l={'a1','a5','a10','a11'};r={'m1','m2','m4','m6','m5','m8'}\n",
    "pos = {}\n",
    "pos.update((node, (1, index)) for index, node in enumerate(l))\n",
    "pos.update((node, (2, index)) for index, node in enumerate(r))\n",
    "nx.draw_networkx(graded_graph, pos=pos, with_labels=True,node_color='lightblue',alpha=0.8,style='dotted',node_size=500)"
   ]
  },
  {
   "cell_type": "markdown",
   "metadata": {
    "colab_type": "text",
    "id": "fVNEfef6raEn"
   },
   "source": [
    "<font color='cyan'>Grader function - 3</font>"
   ]
  },
  {
   "cell_type": "code",
   "execution_count": null,
   "metadata": {
    "colab": {},
    "colab_type": "code",
    "id": "B4YRxNkKj1Qc"
   },
   "outputs": [],
   "source": [
    "graded_cost1=cost1(graded_graph,3)\n",
    "def grader_cost1(data):\n",
    "    assert(data==((1/3)*(4/10))) # 1/3 is number of clusters\n",
    "    return True\n",
    "grader_cost1(graded_cost1)"
   ]
  },
  {
   "cell_type": "markdown",
   "metadata": {
    "colab_type": "text",
    "id": "J7qiz7nxsqJL"
   },
   "source": [
    "<font color='blue'>Calculating cost2</font>"
   ]
  },
  {
   "cell_type": "markdown",
   "metadata": {
    "colab_type": "text",
    "id": "XFqzhGqys03U"
   },
   "source": [
    "Cost2 = $\\frac{1}{N}\\sum_{\\text{each cluster i}}  \\frac{\\text{(sum of degress of actor nodes in the graph with the actor nodes and its movie neighbours in cluster i)}}{\\text{(number of unique movie nodes in the graph with the actor nodes and its movie neighbours in cluster i)}}$ where N= number of clusters "
   ]
  },
  {
   "cell_type": "code",
   "execution_count": null,
   "metadata": {
    "colab": {},
    "colab_type": "code",
    "id": "NH6ayCdKsw0U"
   },
   "outputs": [],
   "source": [
    "def cost2(graph,number_of_clusters):\n",
    "    '''In this function, we will calculate cost2'''\n",
    "    act_nodes=[node for node in graph.nodes() if 'a' in node]\n",
    "    mov_nodes=[node for node in graph.nodes() if 'm' in node]\n",
    "    count_degree=0\n",
    "    for node in act_nodes:\n",
    "        num = graph.degree(node)\n",
    "        count_degree+=num\n",
    "\n",
    "    cost2= count_degree/len(mov_nodes)\n",
    "    cost2/= number_of_clusters\n",
    "    return cost2"
   ]
  },
  {
   "cell_type": "markdown",
   "metadata": {
    "colab_type": "text",
    "id": "SaL1nOMrtYMT"
   },
   "source": [
    "<font color='cyan'>Grader function - 4</font>"
   ]
  },
  {
   "cell_type": "code",
   "execution_count": null,
   "metadata": {
    "colab": {},
    "colab_type": "code",
    "id": "lNC23DCIs-uD"
   },
   "outputs": [],
   "source": [
    "graded_cost2=cost2(graded_graph,3)\n",
    "def grader_cost2(data):\n",
    "    assert(data==((1/3)*(6/6))) # 1/3 is number of clusters\n",
    "    return True\n",
    "grader_cost2(graded_cost2)"
   ]
  },
  {
   "cell_type": "markdown",
   "metadata": {
    "colab_type": "text",
    "id": "GIOPhbBizdWd"
   },
   "source": [
    "<font color='blue'>Grouping similar actors</font>"
   ]
  },
  {
   "cell_type": "code",
   "execution_count": null,
   "metadata": {
    "scrolled": true
   },
   "outputs": [],
   "source": [
    "cluster_lst = [3, 5, 10, 30, 50, 100, 200, 500]\n",
    "final_cost=[]\n",
    "for number_of_clusters in cluster_lst: \n",
    "    algo = KMeans(n_clusters=number_of_clusters) # Initializing the KMeans as the current number of clusters\n",
    "    algo.fit(actor_embeddings) #Fitting the algorithm on actor_nodes dense vector\n",
    "    \n",
    "    dict_nodes = {} # A dict to store the actor nodes grouping by its cluster number\n",
    "    for i in range(number_of_clusters):\n",
    "        dict_nodes[i]=[]\n",
    "    for index in range(len(algo.labels_)):\n",
    "        dict_nodes[algo.labels_[index]].append(actor_nodes[index])\n",
    "    \n",
    "    cst1=[]\n",
    "    cst2=[]\n",
    "    #Iterating through each cluster and computing the cost1 and cost2 function of the eco graphs\n",
    "    for k in range(number_of_clusters): # For each cluster\n",
    "        \n",
    "        subGraph = nx.Graph()  # Creating an empty subgraph object \n",
    "        current_cluster = dict_nodes[k] #Storing the actor nodes for the current cluster number--i.e list[actor nodes for cluster1]\n",
    "        for l in range(len(current_cluster)): #For each node in the current cluster\n",
    "            eco = nx.ego_graph(B,current_cluster[l],radius=3) #Using ecograph to obtain the subgraph from the original\n",
    "            #  partite graph (B) for each node\n",
    "      #This ecograph contains the neighbor nodes of the current node and its respective edges\n",
    "    #and we iteratively update the subgraph object, with the nodes and edge info from eco-graphs \n",
    "      #Using add_nodes_from() to update the nodes of the subgraph by considering nodes present in the eco-subgraph      \n",
    "            subGraph.add_nodes_from(eco.nodes)\n",
    "    #Using add_edges_from() to update the edges of the subgraph by considering the present node in the ecograph\n",
    "            subGraph.add_edges_from(eco.edges())\n",
    "     #Keep on updating the subgraph object until all the nodes present in the given cluster       \n",
    "        cst1.append(cost1(subGraph,number_of_clusters)) # Calculating cost1 for each cluster\n",
    "        cst2.append(cost2(subGraph,number_of_clusters))\n",
    "    \n",
    "    final_cost1 = sum(cst1)\n",
    "    final_cost2 = sum(cst2)\n",
    "    final_cost.append(final_cost1*final_cost2)"
   ]
  },
  {
   "cell_type": "code",
   "execution_count": null,
   "metadata": {},
   "outputs": [],
   "source": [
    "index_max_cost = np.argmax(final_cost)\n",
    "optimal_n_clusters = cluster_lst[index_max_cost] # Obtaining the index of the max cost function\n",
    "#Fitting the Kmeans on actor nodes with optimal number of clusters\n",
    "algo = KMeans(n_clusters=optimal_n_clusters)\n",
    "algo.fit(actor_embeddings)"
   ]
  },
  {
   "cell_type": "markdown",
   "metadata": {},
   "source": [
    "<p> Optimal Number of clusters for actor embeddings is <b>3 </b> </p>"
   ]
  },
  {
   "cell_type": "markdown",
   "metadata": {
    "colab_type": "text",
    "id": "6xfTd3eOzooZ"
   },
   "source": [
    "<font color='blue'>Displaying similar actor clusters</font>"
   ]
  },
  {
   "cell_type": "code",
   "execution_count": null,
   "metadata": {
    "colab": {},
    "colab_type": "code",
    "id": "MSwNPRctzerd"
   },
   "outputs": [],
   "source": [
    "from sklearn.manifold import TSNE\n",
    "transform = TSNE #PCA\n",
    "\n",
    "trans = transform(n_components=2) #Init TSNE with 2 principal components\n",
    "actor_embeddings_2d = trans.fit_transform(actor_embeddings)\n"
   ]
  },
  {
   "cell_type": "code",
   "execution_count": null,
   "metadata": {},
   "outputs": [],
   "source": [
    "plt.figure(figsize=(20,16))\n",
    "plt.axes().set(aspect=\"equal\")\n",
    "plt.scatter(actor_embeddings_2d[:,0], \n",
    "            actor_embeddings_2d[:,1], \n",
    "            c=algo.labels_, alpha=0.6)\n",
    "plt.title('{} visualization of actor embeddings'.format(transform.__name__))\n",
    "\n",
    "plt.show()"
   ]
  },
  {
   "cell_type": "markdown",
   "metadata": {
    "colab_type": "text",
    "id": "oLtD_0HWzfFA"
   },
   "source": [
    "<font color='blue'>Grouping similar movies</font>"
   ]
  },
  {
   "cell_type": "code",
   "execution_count": null,
   "metadata": {
    "colab": {},
    "colab_type": "code",
    "id": "A1YZ5AjhzfhZ",
    "scrolled": true
   },
   "outputs": [],
   "source": [
    "cluster_lst = [3, 5, 10, 30, 50, 100, 200, 500]\n",
    "final_cost=[]\n",
    "for number_of_clusters in cluster_lst:\n",
    "    algo = KMeans(n_clusters=number_of_clusters) # Initializing the KMeans as the current number of clusters\n",
    "    algo.fit(movie_embeddings)  #Fitting the algorithm on movie_nodes dense matrix\n",
    "    \n",
    "    dict_nodes = {} # A dict to store the movie nodes grouping by its cluster number\n",
    "    for i in range(number_of_clusters):\n",
    "        dict_nodes[i]=[]\n",
    "    for index in range(len(algo.labels_)):\n",
    "        dict_nodes[algo.labels_[index]].append(movie_nodes[index])\n",
    "    \n",
    "    cst1=[]\n",
    "    cst2=[]\n",
    "    #Iterating through each cluster and computing the cost1 and cost2 function of the eco graphs\n",
    "    for k in range(number_of_clusters): # For each cluster\n",
    "        \n",
    "        subGraph = nx.Graph()\n",
    "        current_cluster = dict_nodes[k]\n",
    "        for l in range(len(current_cluster)):\n",
    "            eco = nx.ego_graph(B,current_cluster[l],radius=3)\n",
    "            subGraph.add_nodes_from(eco.nodes)\n",
    "            subGraph.add_edges_from(eco.edges())\n",
    "            \n",
    "        cst1.append(cost1(subGraph,number_of_clusters)) # Calculating cost1 for each cluster\n",
    "        cst2.append(cost2(subGraph,number_of_clusters)) #Calcluating cost2 for each cluster\n",
    "    \n",
    "    final_cost1 = sum(cst1)\n",
    "    final_cost2 = sum(cst2)\n",
    "    final_cost.append(final_cost1*final_cost2)"
   ]
  },
  {
   "cell_type": "code",
   "execution_count": null,
   "metadata": {},
   "outputs": [],
   "source": [
    "index_max_cost = np.argmax(final_cost)\n",
    "optimal_n_clusters = cluster_lst[index_max_cost]\n",
    "algo = KMeans(n_clusters=optimal_n_clusters)\n",
    "algo.fit(movie_embeddings)"
   ]
  },
  {
   "cell_type": "markdown",
   "metadata": {},
   "source": [
    "<p> Optimal Number of clusters for movie embeddings is <b>50 </b> </p>"
   ]
  },
  {
   "cell_type": "markdown",
   "metadata": {
    "colab_type": "text",
    "id": "fvhwPpX00EhA"
   },
   "source": [
    "<font color='blue'>Displaying similar movie clusters</font>"
   ]
  },
  {
   "cell_type": "code",
   "execution_count": null,
   "metadata": {
    "colab": {},
    "colab_type": "code",
    "id": "BpC5C2TrzfwK"
   },
   "outputs": [],
   "source": [
    "from sklearn.manifold import TSNE\n",
    "transform = TSNE #PCA\n",
    "\n",
    "trans = transform(n_components=2)\n",
    "movie_embeddings_2d = trans.fit_transform(movie_embeddings)\n",
    "\n",
    "plt.figure(figsize=(15,16))\n",
    "plt.axes().set(aspect=\"equal\")\n",
    "plt.scatter(movie_embeddings_2d[:,0], \n",
    "            movie_embeddings_2d[:,1], \n",
    "            c=algo.labels_, alpha=0.8)\n",
    "plt.title('{} visualization of movie embeddings'.format(transform.__name__))\n",
    "\n",
    "plt.show()"
   ]
  }
 ],
 "metadata": {
  "colab": {
   "collapsed_sections": [],
   "name": "Clustering_Assignment.ipynb",
   "provenance": [],
   "toc_visible": true
  },
  "kernelspec": {
   "display_name": "Python 3",
   "language": "python",
   "name": "python3"
  },
  "language_info": {
   "codemirror_mode": {
    "name": "ipython",
    "version": 3
   },
   "file_extension": ".py",
   "mimetype": "text/x-python",
   "name": "python",
   "nbconvert_exporter": "python",
   "pygments_lexer": "ipython3",
   "version": "3.6.5"
  }
 },
 "nbformat": 4,
 "nbformat_minor": 1
}
